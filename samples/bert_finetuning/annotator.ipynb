{
 "cells": [
  {
   "cell_type": "markdown",
   "metadata": {},
   "source": [
    "## Data Labelling! \n",
    "\n",
    "Imagine you have a lot of science-y texts. These could be logs from a research lab doing materials research. You want to annotate and find out important topics like 'processes', 'materials', etc. You also want to fine-tune a BERT to do this for you later on. \n",
    "\n",
    "So what do you do? First, you look online and find a [fine-tuning guide](https://www.datasciencecentral.com/how-to-fine-tune-bert-transformer-with-spacy-3/). \n",
    "> \"To fine-tune BERT using spaCy 3, we need to provide training and dev data in the spaCy 3 JSON format (see here) which will be then converted to a .spacy binary file. We will provide the data in IOB format contained in a TSV file then convert to spaCy JSON format.\"\n",
    "\n",
    "Example IOB: \n",
    "\n",
    "```python\n",
    "MS B-DIPLOMA\n",
    "in O\n",
    "electrical B-DIPLOMA_MAJOR\n",
    "engineering I-DIPLOMA_MAJOR\n",
    "or O\n",
    "computer B-DIPLOMA_MAJOR\n",
    "engineering I-DIPLOMA_MAJOR\n",
    ". O\n",
    "```\n",
    "\n",
    "After reading this, you understand you need to create a pipeline which can generate these tags in the above format. **This seems like something GrammarFlow can help with!**\n",
    "\n",
    "> Note: The focus of this notebook is data labelling, not fine-tuning!"
   ]
  },
  {
   "cell_type": "markdown",
   "metadata": {},
   "source": [
    "## Helper Functions"
   ]
  },
  {
   "cell_type": "code",
   "execution_count": 1,
   "metadata": {},
   "outputs": [
    {
     "name": "stdout",
     "output_type": "stream",
     "text": [
      "Collecting grammarflow==0.0.6\n",
      "  Downloading GrammarFlow-0.0.6-py3-none-any.whl (18 kB)\n",
      "Installing collected packages: grammarflow\n",
      "  Attempting uninstall: grammarflow\n",
      "    Found existing installation: GrammarFlow 0.0.5\n",
      "    Uninstalling GrammarFlow-0.0.5:\n",
      "      Successfully uninstalled GrammarFlow-0.0.5\n",
      "Successfully installed grammarflow-0.0.6\n",
      "\n",
      "\u001b[1m[\u001b[0m\u001b[34;49mnotice\u001b[0m\u001b[1;39;49m]\u001b[0m\u001b[39;49m A new release of pip is available: \u001b[0m\u001b[31;49m23.0.1\u001b[0m\u001b[39;49m -> \u001b[0m\u001b[32;49m24.0\u001b[0m\n",
      "\u001b[1m[\u001b[0m\u001b[34;49mnotice\u001b[0m\u001b[1;39;49m]\u001b[0m\u001b[39;49m To update, run: \u001b[0m\u001b[32;49mpip install --upgrade pip\u001b[0m\n",
      "Note: you may need to restart the kernel to use updated packages.\n"
     ]
    }
   ],
   "source": [
    "%pip install grammarflow==0.0.7"
   ]
  },
  {
   "cell_type": "code",
   "execution_count": 1,
   "metadata": {},
   "outputs": [],
   "source": [
    "import re\n",
    "import time\n",
    "import random\n",
    "from typing import List, Optional\n",
    "from pydantic import BaseModel, Field\n",
    "from grammarflow import *\n",
    "import openai\n",
    "import os\n",
    "from dotenv import load_dotenv, find_dotenv\n",
    "load_dotenv(find_dotenv())"
   ]
  },
  {
   "cell_type": "code",
   "execution_count": 3,
   "metadata": {},
   "outputs": [
    {
     "name": "stdout",
     "output_type": "stream",
     "text": [
      "Name: openai\n",
      "Version: 1.14.1\n",
      "Summary: The official Python library for the openai API\n",
      "Home-page: \n",
      "Author: \n",
      "Author-email: OpenAI <support@openai.com>\n",
      "License: \n",
      "Location: /home/aksha/.pyenv/versions/3.9.18/lib/python3.9/site-packages\n",
      "Requires: anyio, distro, httpx, pydantic, sniffio, tqdm, typing-extensions\n",
      "Required-by: langchain-openai\n",
      "Note: you may need to restart the kernel to use updated packages.\n"
     ]
    }
   ],
   "source": [
    "%pip show openai"
   ]
  },
  {
   "cell_type": "code",
   "execution_count": 4,
   "metadata": {},
   "outputs": [
    {
     "name": "stdout",
     "output_type": "stream",
     "text": [
      "Name: llama_cpp_python\n",
      "Version: 0.2.50\n",
      "Summary: Python bindings for the llama.cpp library\n",
      "Home-page: \n",
      "Author: \n",
      "Author-email: Andrei Betlen <abetlen@gmail.com>\n",
      "License: MIT\n",
      "Location: /home/aksha/.pyenv/versions/3.9.18/lib/python3.9/site-packages\n",
      "Requires: diskcache, jinja2, numpy, typing-extensions\n",
      "Required-by: \n",
      "Note: you may need to restart the kernel to use updated packages.\n"
     ]
    }
   ],
   "source": [
    "%pip show llama-cpp-python"
   ]
  },
  {
   "cell_type": "code",
   "execution_count": 7,
   "metadata": {},
   "outputs": [
    {
     "name": "stdout",
     "output_type": "stream",
     "text": [
      "Name: tiktoken\n",
      "Version: 0.6.0\n",
      "Summary: tiktoken is a fast BPE tokeniser for use with OpenAI's models\n",
      "Home-page: \n",
      "Author: Shantanu Jain\n",
      "Author-email: shantanu@openai.com\n",
      "License: MIT License\n",
      "        \n",
      "        Copyright (c) 2022 OpenAI, Shantanu Jain\n",
      "        \n",
      "        Permission is hereby granted, free of charge, to any person obtaining a copy\n",
      "        of this software and associated documentation files (the \"Software\"), to deal\n",
      "        in the Software without restriction, including without limitation the rights\n",
      "        to use, copy, modify, merge, publish, distribute, sublicense, and/or sell\n",
      "        copies of the Software, and to permit persons to whom the Software is\n",
      "        furnished to do so, subject to the following conditions:\n",
      "        \n",
      "        The above copyright notice and this permission notice shall be included in all\n",
      "        copies or substantial portions of the Software.\n",
      "        \n",
      "        THE SOFTWARE IS PROVIDED \"AS IS\", WITHOUT WARRANTY OF ANY KIND, EXPRESS OR\n",
      "        IMPLIED, INCLUDING BUT NOT LIMITED TO THE WARRANTIES OF MERCHANTABILITY,\n",
      "        FITNESS FOR A PARTICULAR PURPOSE AND NONINFRINGEMENT. IN NO EVENT SHALL THE\n",
      "        AUTHORS OR COPYRIGHT HOLDERS BE LIABLE FOR ANY CLAIM, DAMAGES OR OTHER\n",
      "        LIABILITY, WHETHER IN AN ACTION OF CONTRACT, TORT OR OTHERWISE, ARISING FROM,\n",
      "        OUT OF OR IN CONNECTION WITH THE SOFTWARE OR THE USE OR OTHER DEALINGS IN THE\n",
      "        SOFTWARE.\n",
      "        \n",
      "Location: /home/aksha/.pyenv/versions/3.9.18/lib/python3.9/site-packages\n",
      "Requires: regex, requests\n",
      "Required-by: langchain-openai\n",
      "Note: you may need to restart the kernel to use updated packages.\n"
     ]
    }
   ],
   "source": [
    "%pip show tiktoken "
   ]
  },
  {
   "cell_type": "code",
   "execution_count": 6,
   "metadata": {},
   "outputs": [
    {
     "name": "stdout",
     "output_type": "stream",
     "text": [
      "Name: pydantic\n",
      "Version: 1.9.0\n",
      "Summary: Data validation and settings management using python 3.6 type hinting\n",
      "Home-page: https://github.com/samuelcolvin/pydantic\n",
      "Author: Samuel Colvin\n",
      "Author-email: s@muelcolvin.com\n",
      "License: MIT\n",
      "Location: /home/aksha/.pyenv/versions/3.9.18/lib/python3.9/site-packages\n",
      "Requires: typing-extensions\n",
      "Required-by: autodoc-pydantic, chromadb, confection, fastapi, gto, inflect, langchain, langchain-core, langsmith, openai, pydantic-settings, replicate, spacy, thinc, weasel\n",
      "Note: you may need to restart the kernel to use updated packages.\n"
     ]
    }
   ],
   "source": [
    "%pip show pydantic"
   ]
  },
  {
   "cell_type": "code",
   "execution_count": 3,
   "metadata": {},
   "outputs": [],
   "source": [
    "class LLM:\n",
    "    def __init__(self):\n",
    "        self.client = openai.OpenAI(\n",
    "            api_key=os.environ[\"OPENAI_API_KEY\"],\n",
    "        )\n",
    "\n",
    "    def invoke(self, config: dict):\n",
    "        with PromptContextManager(config) as filled_prompt:\n",
    "            return self.request(filled_prompt, temperature=0.01)\n",
    "\n",
    "    def __call__(self, prompt, temperature=0.2, context=None):\n",
    "        response = self.client.chat.completions.create(\n",
    "            model=\"gpt-3.5-turbo\",\n",
    "            messages=[{\"role\": \"user\", \"content\": prompt}],\n",
    "            temperature=temperature,\n",
    "        )\n",
    "        return response.choices[0].message.content\n",
    "\n",
    "\n",
    "llm = LLM()"
   ]
  },
  {
   "cell_type": "code",
   "execution_count": 4,
   "metadata": {},
   "outputs": [],
   "source": [
    "def tag_abstract(abstract, materials, conditions, processes):\n",
    "    words = re.findall(r'\\w+|[^\\w\\s]', abstract)\n",
    "\n",
    "    tags = ['O'] * len(words)\n",
    "\n",
    "    def tag_words(word_list, tag_suffix):\n",
    "        for word in word_list:\n",
    "            start = 0\n",
    "            while start < len(abstract):\n",
    "                found_at = abstract.find(word, start)\n",
    "                if found_at == -1:\n",
    "                    break\n",
    "                token_index = len(re.findall(\n",
    "                    r'\\w+|[^\\w\\s]', abstract[:found_at]))\n",
    "                if token_index < len(tags):\n",
    "                    tags[token_index] = 'B' + tag_suffix\n",
    "                    for i in range(token_index + 1, min(token_index + len(re.findall(r'\\w+|[^\\w\\s]', word)), len(tags))):\n",
    "                        tags[i] = 'I' + tag_suffix\n",
    "                start = found_at + 1\n",
    "\n",
    "    tag_words(materials, '-MATERIALS')\n",
    "    tag_words(conditions, '-CONDITIONS')\n",
    "    tag_words(processes, '-PROCESSES')\n",
    "\n",
    "    tagged_abstract = '\\n'.join(\n",
    "        [f'{word} {tag}' for word, tag in zip(words, tags)])\n",
    "\n",
    "    return tagged_abstract"
   ]
  },
  {
   "cell_type": "markdown",
   "metadata": {},
   "source": [
    "## Pydantic Model"
   ]
  },
  {
   "cell_type": "code",
   "execution_count": 5,
   "metadata": {},
   "outputs": [],
   "source": [
    "class Annotations(BaseModel):\n",
    "    materials: List[str] = Field(\n",
    "        ..., description=\"Only nouns that count as materials in experiments (such as types of chromatography, purification, methods, preparation, study, etc)\")\n",
    "    conditions: List[str] = Field(\n",
    "        ..., description=\"Conditions used within the experiments (like temperature units, quantity units, mathematical units, percentages, coefficients, any numbers)\")\n",
    "    processes: List[str] = Field(\n",
    "        ..., description=\"Only nouns and verbs for processes within the experiments (like factor names, rate, yield, etc)\")"
   ]
  },
  {
   "cell_type": "code",
   "execution_count": 6,
   "metadata": {},
   "outputs": [],
   "source": [
    "SampleAnnotations = Annotations(\n",
    "    materials=['silica resin'],\n",
    "    conditions=['10µm, 20µm, 50µm',  'only 10µm silica resin',\n",
    "                'yield (>96%)', 'productivity (> 1kg/kg-resin/day)'],\n",
    "    processes=['chiral separation']\n",
    ")"
   ]
  },
  {
   "cell_type": "markdown",
   "metadata": {},
   "source": [
    "## Making Prompt"
   ]
  },
  {
   "cell_type": "code",
   "execution_count": 7,
   "metadata": {},
   "outputs": [],
   "source": [
    "prompt = PromptBuilder()\n",
    "prompt.add_section(\n",
    "    text=\"\"\"\n",
    "Your role is that of a DATA ANNOTATOR for research paper abstracts. You are expected to identify the materials used, different processes involved, and conditions mentioned in the abstract. \n",
    "I want you to look at the abstract given below and return all the key phrases you find. Every str object within the list you return for each of the tags must contain at least 2 words and not exceed 8 words. \n",
    "\"\"\"\n",
    ")\n",
    "prompt.add_section(\n",
    "    define_grammar=True\n",
    ")\n",
    "prompt.add_section(\n",
    "    text=\"\"\"\n",
    "Here is an example: \n",
    "\n",
    "Abstract: Of the three particle sizes studied (10µm, 20µm, 50µm) only 10µm silica resin was able to produce purified API at the yield (>96%) and productivity (> 1kg/kg-resin/day) necessitated by the project. The second case study uses DoE studies to identify critical process parameters of column load, mobile phase solvent ratio and basic modifier level for a low-resolution, preparative, chiral separation.\n",
    "Annotations: \n",
    "{sample} \n",
    "\"\"\",\n",
    "    placeholders=[\"sample\"]\n",
    ")\n",
    "prompt.add_section(\n",
    "    text=\"Remember that your role is to automate the data annotation process for a chemistry based project. Begin!\\nAbstract: {abstract}\\nAnnotations:\",\n",
    "    placeholders=[\"abstract\"]\n",
    ")"
   ]
  },
  {
   "cell_type": "markdown",
   "metadata": {},
   "source": [
    "## Constraining"
   ]
  },
  {
   "cell_type": "code",
   "execution_count": 8,
   "metadata": {},
   "outputs": [],
   "source": [
    "abstract = \"\"\" \n",
    "The simultaneous determination of multi-mycotoxins in food commodities are highly desirable due to their potential toxic effects and mass consumption of foods. \n",
    "Herein, liquid chromatography-quadrupole exactive orbitrap mass spectrometry was proposed to analyze multi-mycotoxins in commercial vegetable oils. \n",
    "Specifically, the method featured a successive liquid–liquid extraction process, in which the complementary solvents consisted of acetonitrile and water were optimized. \n",
    "Resultantly, matrix effects were reduced greatly. External calibration approach revealed good quantification property for each analyte. \n",
    "Under optimal conditions, the recovery ranging from 80.8% to 109.7%, relative standard deviation less than 11.7%, and good limit of quantification (0.35 to 45.4ng/g) were achieved. \n",
    "The high accuracy of proposed method was also validated. The detection of 20 commercial vegetable oils revealed that aflatoxins B1 and B2, zearalenone were observed in 10 real samples. \n",
    "The as-developed method is simple and low-cost, which merits the wide applications for scanning mycotoxins in oil matrices.\n",
    "\"\"\""
   ]
  },
  {
   "cell_type": "code",
   "execution_count": 9,
   "metadata": {},
   "outputs": [],
   "source": [
    "with Constrain(prompt) as manager:\n",
    "    manager.set_config(\n",
    "        format='xml'\n",
    "    )\n",
    "\n",
    "    manager.format_prompt(placeholders={\n",
    "                          \"abstract\": abstract,\n",
    "                          \"sample\": XML.format(SampleAnnotations)\n",
    "                          },\n",
    "                          grammars=[{\n",
    "                              'model': [Annotations]},\n",
    "    ]\n",
    "    )\n",
    "\n",
    "    llm_response = llm(manager.prompt)\n",
    "    response = manager.parse(llm_response)"
   ]
  },
  {
   "cell_type": "code",
   "execution_count": 10,
   "metadata": {},
   "outputs": [],
   "source": [
    "materials, conditions, processes = (\n",
    "    response.Annotations.materials,\n",
    "    response.Annotations.conditions,\n",
    "    response.Annotations.processes,\n",
    ")"
   ]
  },
  {
   "cell_type": "code",
   "execution_count": 11,
   "metadata": {},
   "outputs": [
    {
     "data": {
      "text/plain": [
       "(['vegetable oils', 'acetonitrile', 'water'],\n",
       " ['80.8% to 109.7%', '11.7%', '0.35 to 45.4ng/g'],\n",
       " ['liquid chromatography-quadrupole exactive orbitrap mass spectrometry', 'liquid–liquid extraction process', 'external calibration approach'])"
      ]
     },
     "execution_count": 11,
     "metadata": {},
     "output_type": "execute_result"
    }
   ],
   "source": [
    "materials, conditions, processes"
   ]
  },
  {
   "cell_type": "code",
   "execution_count": 12,
   "metadata": {},
   "outputs": [],
   "source": [
    "tagged_abstract = tag_abstract(abstract, materials, conditions, processes)"
   ]
  },
  {
   "cell_type": "code",
   "execution_count": 13,
   "metadata": {},
   "outputs": [
    {
     "name": "stdout",
     "output_type": "stream",
     "text": [
      "The O\n",
      "simultaneous O\n",
      "determination O\n",
      "of O\n",
      "multi O\n",
      "- O\n",
      "mycotoxins O\n",
      "in O\n",
      "food O\n",
      "commodities O\n",
      "are O\n",
      "highly O\n",
      "desirable O\n",
      "due O\n",
      "to O\n",
      "their O\n",
      "potential O\n",
      "toxic O\n",
      "effects O\n",
      "and O\n",
      "mass O\n",
      "consumption O\n",
      "of O\n",
      "foods O\n",
      ". O\n",
      "Herein O\n",
      ", O\n",
      "liquid B-PROCESSES\n",
      "chromatography I-PROCESSES\n",
      "- I-PROCESSES\n",
      "quadrupole I-PROCESSES\n",
      "exactive I-PROCESSES\n",
      "orbitrap I-PROCESSES\n",
      "mass I-PROCESSES\n",
      "spectrometry I-PROCESSES\n",
      "was O\n",
      "proposed O\n",
      "to O\n",
      "analyze O\n",
      "multi O\n",
      "- O\n",
      "mycotoxins O\n",
      "in O\n",
      "commercial O\n",
      "vegetable B-MATERIALS\n",
      "oils I-MATERIALS\n",
      ". O\n",
      "Specifically O\n",
      ", O\n",
      "the O\n",
      "method O\n",
      "featured O\n",
      "a O\n",
      "successive O\n",
      "liquid B-PROCESSES\n",
      "– I-PROCESSES\n",
      "liquid I-PROCESSES\n",
      "extraction I-PROCESSES\n",
      "process I-PROCESSES\n",
      ", O\n",
      "in O\n",
      "which O\n",
      "the O\n",
      "complementary O\n",
      "solvents O\n",
      "consisted O\n",
      "of O\n",
      "acetonitrile B-MATERIALS\n",
      "and O\n",
      "water B-MATERIALS\n",
      "were O\n",
      "optimized O\n",
      ". O\n",
      "Resultantly O\n",
      ", O\n",
      "matrix O\n",
      "effects O\n",
      "were O\n",
      "reduced O\n",
      "greatly O\n",
      ". O\n",
      "External O\n",
      "calibration O\n",
      "approach O\n",
      "revealed O\n",
      "good O\n",
      "quantification O\n",
      "property O\n",
      "for O\n",
      "each O\n",
      "analyte O\n",
      ". O\n",
      "Under O\n",
      "optimal O\n",
      "conditions O\n",
      ", O\n",
      "the O\n",
      "recovery O\n",
      "ranging O\n",
      "from O\n",
      "80 B-CONDITIONS\n",
      ". I-CONDITIONS\n",
      "8 I-CONDITIONS\n",
      "% I-CONDITIONS\n",
      "to I-CONDITIONS\n",
      "109 I-CONDITIONS\n",
      ". I-CONDITIONS\n",
      "7 I-CONDITIONS\n",
      "% I-CONDITIONS\n",
      ", O\n",
      "relative O\n",
      "standard O\n",
      "deviation O\n",
      "less O\n",
      "than O\n",
      "11 B-CONDITIONS\n",
      ". I-CONDITIONS\n",
      "7 I-CONDITIONS\n",
      "% I-CONDITIONS\n",
      ", O\n",
      "and O\n",
      "good O\n",
      "limit O\n",
      "of O\n",
      "quantification O\n",
      "( O\n",
      "0 B-CONDITIONS\n",
      ". I-CONDITIONS\n",
      "35 I-CONDITIONS\n",
      "to I-CONDITIONS\n",
      "45 I-CONDITIONS\n",
      ". I-CONDITIONS\n",
      "4ng I-CONDITIONS\n",
      "/ I-CONDITIONS\n",
      "g I-CONDITIONS\n",
      ") O\n",
      "were O\n",
      "achieved O\n",
      ". O\n",
      "The O\n",
      "high O\n",
      "accuracy O\n",
      "of O\n",
      "proposed O\n",
      "method O\n",
      "was O\n",
      "also O\n",
      "validated O\n",
      ". O\n",
      "The O\n",
      "detection O\n",
      "of O\n",
      "20 O\n",
      "commercial O\n",
      "vegetable B-MATERIALS\n",
      "oils I-MATERIALS\n",
      "revealed O\n",
      "that O\n",
      "aflatoxins O\n",
      "B1 O\n",
      "and O\n",
      "B2 O\n",
      ", O\n",
      "zearalenone O\n",
      "were O\n",
      "observed O\n",
      "in O\n",
      "10 O\n",
      "real O\n",
      "samples O\n",
      ". O\n",
      "The O\n",
      "as O\n",
      "- O\n",
      "developed O\n",
      "method O\n",
      "is O\n",
      "simple O\n",
      "and O\n",
      "low O\n",
      "- O\n",
      "cost O\n",
      ", O\n",
      "which O\n",
      "merits O\n",
      "the O\n",
      "wide O\n",
      "applications O\n",
      "for O\n",
      "scanning O\n",
      "mycotoxins O\n",
      "in O\n",
      "oil O\n",
      "matrices O\n",
      ". O\n"
     ]
    }
   ],
   "source": [
    "print(tagged_abstract)"
   ]
  },
  {
   "cell_type": "markdown",
   "metadata": {},
   "source": [
    "# Voila! \n",
    "\n",
    "And we're done! Now, follow the next steps in the guide to convert to a TSV file and subsequent JSON file. "
   ]
  }
 ],
 "metadata": {
  "kernelspec": {
   "display_name": "Python 3",
   "language": "python",
   "name": "python3"
  },
  "language_info": {
   "codemirror_mode": {
    "name": "ipython",
    "version": 3
   },
   "file_extension": ".py",
   "mimetype": "text/x-python",
   "name": "python",
   "nbconvert_exporter": "python",
   "pygments_lexer": "ipython3",
   "version": "3.9.18"
  }
 },
 "nbformat": 4,
 "nbformat_minor": 2
}
